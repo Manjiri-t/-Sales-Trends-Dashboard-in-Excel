{
 "cells": [
  {
   "cell_type": "code",
   "execution_count": null,
   "id": "013e19ba-306e-4ab1-a297-d23c0faa96ae",
   "metadata": {},
   "outputs": [],
   "source": [
    "#Task 1 There are three different tables as given above. Please make three dataframe in python and save them as three .csv files. From Task 2 to Task 10, use the saved .csv files only."
   ]
  },
  {
   "cell_type": "code",
   "execution_count": 397,
   "id": "8fecad07-6cf8-40eb-9d3c-d35dfb4002ff",
   "metadata": {},
   "outputs": [
    {
     "name": "stdout",
     "output_type": "stream",
     "text": [
      "  ID    Project      Cost   Status\n",
      "A001  Project 1 1002000.0 Finished\n",
      "A002  Project 2 2000000.0  Ongoing\n",
      "A003  Project 3 4500000.0 Finished\n",
      "A004  Project 4 5500000.0  Ongoing\n",
      "A005  Project 5       NaN Finished\n",
      "A002  Project 6  680000.0   Failed\n",
      "A005  Project 7  400000.0 Finished\n",
      "A003  Project 8  350000.0   Failed\n",
      "A001  Project 9       NaN  Ongoing\n",
      "A003 Project 10  300000.0 Finished\n",
      "A001 Project 11 2000000.0   Failed\n",
      "A004 Project 12 1000000.0  Ongoing\n",
      "A004 Project 13 3000000.0 Finished\n",
      "A005 Project 14  200000.0 Finished\n"
     ]
    }
   ],
   "source": [
    "#Create First dataframe as Project and save it as 'Project.csv'\n",
    "\n",
    "#import pandas library as a pd object\n",
    "import pandas as pd\n",
    "\n",
    "#DataFrame creation using Dictionary\n",
    "data= { 'ID': ['A001','A002','A003','A004','A005','A002','A005','A003','A001','A003','A001', 'A004','A004','A005'], \n",
    "       'Project': ['Project 1','Project 2','Project 3','Project 4','Project 5','Project 6','Project 7','Project 8','Project 9', \n",
    "                   'Project 10','Project 11','Project 12','Project 13','Project 14'], \n",
    "       'Cost': [1002000, 2000000, 4500000, 5500000, np.nan , 680000, 400000, 350000, np.nan, 300000, 2000000, 1000000, 3000000, 200000],\n",
    "      'Status': ['Finished', 'Ongoing','Finished', 'Ongoing','Finished', 'Failed', 'Finished','Failed', 'Ongoing', 'Finished','Failed', 'Ongoing','Finished','Finished']}\n",
    "\n",
    "#Create dataframe df for the content of data variable\n",
    "df=pd.DataFrame(data)\n",
    "\n",
    "# Save the dataframe as csv\n",
    "df.to_csv('Project.csv')\n",
    "\n",
    "\n",
    "#Read saved csv and remove unnamed index\n",
    "df=pd.read_csv('Project.csv' , index_col=0)\n",
    "\n",
    "#Print the dataframe without showing index\n",
    "print(df.to_string(index=False))\n",
    "    \n",
    "       \n"
   ]
  },
  {
   "cell_type": "code",
   "execution_count": 209,
   "id": "a75c2c79-39da-44f5-9b06-a6f71dd19525",
   "metadata": {},
   "outputs": [
    {
     "name": "stdout",
     "output_type": "stream",
     "text": [
      "  ID            Name Gender    City  Age\n",
      "A001      John Alter      M   Paris   25\n",
      "A002 Alice Luxumberg      F  London   27\n",
      "A003   Tom Sabestine      M  Berlin   29\n",
      "A004      Nina Adgra      F Newyork   31\n",
      "A005       Amy Johny      F  Madrid   30\n"
     ]
    }
   ],
   "source": [
    "#Create Second dataframe as Employee and save it as 'Employee.csv'\n",
    "\n",
    "#import pandas library as pd\n",
    "import pandas as pd\n",
    "\n",
    "#DataFrame creation using Dictionary\n",
    "data1= {'ID': ['A001', 'A002', 'A003', 'A004', 'A005'], \n",
    "       'Name' : ['John Alter', 'Alice Luxumberg', 'Tom Sabestine', 'Nina Adgra', 'Amy Johny'], \n",
    "       'Gender': ['M', 'F', 'M','F', 'F'],\n",
    "       'City' : ['Paris', 'London', 'Berlin', 'Newyork', 'Madrid'],\n",
    "       'Age' : [25, 27, 29, 31,30]}\n",
    "\n",
    "#Create dataframe for the content of data1 variable\n",
    "df1=pd.DataFrame(data1)\n",
    "\n",
    "# Save the dataframe as csv\n",
    "df1.to_csv('Employee.csv')\n",
    "\n",
    "#Read saved csv and remove unnamed index\n",
    "df1=pd.read_csv('Employee.csv' , index_col=0)\n",
    "\n",
    "#Print the dataframe without showing index\n",
    "print(df1.to_string(index=False))\n"
   ]
  },
  {
   "cell_type": "code",
   "execution_count": 111,
   "id": "d31aa4ae-e760-4894-9477-cee6c442bce3",
   "metadata": {},
   "outputs": [
    {
     "name": "stdout",
     "output_type": "stream",
     "text": [
      "  ID  Designation Level\n",
      "A001                  2\n",
      "A002                  2\n",
      "A003                  3\n",
      "A004                  2\n",
      "A005                  3\n"
     ]
    }
   ],
   "source": [
    "#Create third dataframe as Seniority level and save it as Senioritylevel.csv\n",
    "\n",
    "#import pandas library as pd\n",
    "import pandas as pd\n",
    "\n",
    "#DataFrame creation using Dictionary\n",
    "data2= { 'ID': ['A001', 'A002', 'A003', 'A004', 'A005'],\n",
    "         'Designation Level' : [2,2,3,2,3]}\n",
    "\n",
    "#Create dataframe for the content of data2 variable\n",
    "df2=pd.DataFrame(data2)\n",
    "\n",
    "# Save the dataframe as csv\n",
    "df2.to_csv('Senioritylevel.csv')\n",
    "\n",
    "#Read saved csv and remove unnamed index\n",
    "df2=pd.read_csv('Senioritylevel.csv', index_col=0)\n",
    "\n",
    "#Print the dataframe without showing index\n",
    "print(df2.to_string(index=False))"
   ]
  },
  {
   "cell_type": "code",
   "execution_count": 401,
   "id": "a971db1e-f353-43a0-b2cc-a4fd9daba677",
   "metadata": {},
   "outputs": [
    {
     "name": "stdout",
     "output_type": "stream",
     "text": [
      "  ID    Project    Cost   Status\n",
      "A001  Project 1 1002000 Finished\n",
      "A002  Project 2 2000000  Ongoing\n",
      "A003  Project 3 4500000 Finished\n",
      "A004  Project 4 5500000  Ongoing\n",
      "A005  Project 5 3250500 Finished\n",
      "A002  Project 6  680000   Failed\n",
      "A005  Project 7  400000 Finished\n",
      "A003  Project 8  350000   Failed\n",
      "A001  Project 9 2210312  Ongoing\n",
      "A003 Project 10  300000 Finished\n",
      "A001 Project 11 2000000   Failed\n",
      "A004 Project 12 1000000  Ongoing\n",
      "A004 Project 13 3000000 Finished\n",
      "A005 Project 14  200000 Finished\n"
     ]
    }
   ],
   "source": [
    "#Task 2-The cost column in the dataframe “Project” has some missing values. Your task is to compute these missing values. Replace the missing values by running average. You should use the “For” loop for this task.\n",
    "\n",
    "#import pandas library as pd and numpy as np\n",
    "import pandas as pd\n",
    "import numpy as np\n",
    "\n",
    "# Read the CSV\n",
    "df = pd.read_csv('Project.csv', index_col=0)\n",
    "\n",
    "\n",
    "# Loop to fill missing values with running average\n",
    "for i in range(len(df)):\n",
    "    if pd.isna(df.loc[i, 'Cost']):\n",
    "        df.loc[i, 'Cost'] = df.loc[:i-1, 'Cost'].mean()\n",
    "        \n",
    "#Convert the Cost column into integer to remove the decimal points\n",
    "df['Cost']=df['Cost'].astype(int)\n",
    "\n",
    " # Print the updated DataFrame\n",
    "print(df.to_string(index=False))\n",
    "\n",
    "df.to_csv('Project.csv')\n"
   ]
  },
  {
   "cell_type": "code",
   "execution_count": 385,
   "id": "ce1076e3-791b-4d55-9f46-85bec2593fa3",
   "metadata": {},
   "outputs": [
    {
     "name": "stdout",
     "output_type": "stream",
     "text": [
      "  ID Gender    City  Age First Name Last Name\n",
      "A001      M   Paris   25       John     Alter\n",
      "A002      F  London   27      Alice Luxumberg\n",
      "A003      M  Berlin   29        Tom Sabestine\n",
      "A004      F Newyork   31       Nina     Adgra\n",
      "A005      F  Madrid   30        Amy     Johny\n"
     ]
    }
   ],
   "source": [
    "#Task 3-Split the name column in the Employee dataframe into two new columns “First Name”, and “Last Name” and remove the older “name” column.\n",
    "\n",
    "#import pandas library as pd\n",
    "import pandas as pd\n",
    "\n",
    "# Read the CSV\n",
    "df = pd.read_csv('Employee.csv', index_col=0)\n",
    "\n",
    "#Split the Name column into two columns as First name and Last name\n",
    "df[['First Name','Last Name']]=df.Name.str.split(expand=True)\n",
    "\n",
    "#Remove Name column from Employee dataframe\n",
    "newdf=df.drop('Name', axis='columns')\n",
    "\n",
    "#Print the updated \n",
    "print(newdf.to_string(index=False))\n",
    "\n"
   ]
  },
  {
   "cell_type": "code",
   "execution_count": 273,
   "id": "057caa08-a36b-4918-b4ec-06a37391c912",
   "metadata": {},
   "outputs": [
    {
     "name": "stdout",
     "output_type": "stream",
     "text": [
      "  ID    Project    Cost   Status Gender    City  Age First Name Last Name  Designation Level\n",
      "A001  Project 1 1002000 Finished      M   Paris   25       John     Alter                  2\n",
      "A002  Project 2 2000000  Ongoing      F  London   27      Alice Luxumberg                  2\n",
      "A003  Project 3 4500000 Finished      M  Berlin   29        Tom Sabestine                  3\n",
      "A004  Project 4 5500000  Ongoing      F Newyork   31       Nina     Adgra                  2\n",
      "A005  Project 5 3250500 Finished      F  Madrid   30        Amy     Johny                  3\n",
      "A002  Project 6  680000   Failed      F  London   27      Alice Luxumberg                  2\n",
      "A005  Project 7  400000 Finished      F  Madrid   30        Amy     Johny                  3\n",
      "A003  Project 8  350000   Failed      M  Berlin   29        Tom Sabestine                  3\n",
      "A001  Project 9 2210312  Ongoing      M   Paris   25       John     Alter                  2\n",
      "A003 Project 10  300000 Finished      M  Berlin   29        Tom Sabestine                  3\n",
      "A001 Project 11 2000000   Failed      M   Paris   25       John     Alter                  2\n",
      "A004 Project 12 1000000  Ongoing      F Newyork   31       Nina     Adgra                  2\n",
      "A004 Project 13 3000000 Finished      F Newyork   31       Nina     Adgra                  2\n",
      "A005 Project 14  200000 Finished      F  Madrid   30        Amy     Johny                  3\n"
     ]
    }
   ],
   "source": [
    "#Task 4-Join all three dataframes in one single dataframe. Name it “Final”\n",
    "\n",
    "#import pandas library as pd\n",
    "import pandas as pd\n",
    "\n",
    "# Read the Project CSV\n",
    "df=pd.read_csv('Project.csv', index_col=0)\n",
    "\n",
    "#Merge first Project dataframe and the second Employee dataframe on a common column name 'ID'\n",
    "mergedf=pd.merge(df, newdf, on='ID')\n",
    "\n",
    "#Merge the first two combined dataframe and the third seniritylevel dataframe on a common column name 'ID'\n",
    "mergedf=pd.merge(mergedf,df2, on='ID')\n",
    "\n",
    "#Save the merged dataframe as a 'Final.csv'\n",
    "mergedf.to_csv('Final.csv')\n",
    "\n",
    "#Read the newly created Final.csv\n",
    "df_1=pd.read_csv('Final.csv', index_col=0)\n",
    "\n",
    "#Print updated combined dat\n",
    "print(df_1.to_string(index=False))\n",
    "\n",
    "\n"
   ]
  },
  {
   "cell_type": "code",
   "execution_count": 275,
   "id": "45e68b20-d6b7-4964-9138-01951c1b68ff",
   "metadata": {},
   "outputs": [
    {
     "name": "stdout",
     "output_type": "stream",
     "text": [
      "  ID    Project    Cost   Status Gender    City  Age First Name Last Name  Designation Level  Bonus\n",
      "A001  Project 1 1002000 Finished      M   Paris   25       John     Alter                  2  50100\n",
      "A002  Project 2 2000000  Ongoing      F  London   27      Alice Luxumberg                  2      0\n",
      "A003  Project 3 4500000 Finished      M  Berlin   29        Tom Sabestine                  3 225000\n",
      "A004  Project 4 5500000  Ongoing      F Newyork   31       Nina     Adgra                  2      0\n",
      "A005  Project 5 3250500 Finished      F  Madrid   30        Amy     Johny                  3 162525\n",
      "A002  Project 6  680000   Failed      F  London   27      Alice Luxumberg                  2      0\n",
      "A005  Project 7  400000 Finished      F  Madrid   30        Amy     Johny                  3  20000\n",
      "A003  Project 8  350000   Failed      M  Berlin   29        Tom Sabestine                  3      0\n",
      "A001  Project 9 2210312  Ongoing      M   Paris   25       John     Alter                  2      0\n",
      "A003 Project 10  300000 Finished      M  Berlin   29        Tom Sabestine                  3  15000\n",
      "A001 Project 11 2000000   Failed      M   Paris   25       John     Alter                  2      0\n",
      "A004 Project 12 1000000  Ongoing      F Newyork   31       Nina     Adgra                  2      0\n",
      "A004 Project 13 3000000 Finished      F Newyork   31       Nina     Adgra                  2 150000\n",
      "A005 Project 14  200000 Finished      F  Madrid   30        Amy     Johny                  3  10000\n"
     ]
    }
   ],
   "source": [
    "#Task 5-Add a new bonus column in the Final dataframe. Give a 5% bonus concerning project cost only to employees who have finished the projects.\n",
    "\n",
    "#import pandas library as pd\n",
    "import pandas as pd\n",
    "\n",
    "#Read the newly created Final.csv\n",
    "df=pd.read_csv('Final.csv', index_col=0)\n",
    "\n",
    "#Add new column as Bonus to the final dataframe and add 5% bonus to those who have Status as Finished\n",
    "df['Bonus']=df.apply(lambda x: int(0.05* x['Cost']) if x['Status']=='Finished' else 0, axis=1)\n",
    "\n",
    "#Print the updated findl dataframe\n",
    "print(df.to_string (index=False))"
   ]
  },
  {
   "cell_type": "code",
   "execution_count": 285,
   "id": "95eddd50-713c-432e-befd-99d89cdf3d11",
   "metadata": {},
   "outputs": [
    {
     "name": "stdout",
     "output_type": "stream",
     "text": [
      "  ID    Project    Cost   Status Gender    City  Age First Name Last Name  Designation Level\n",
      "A001  Project 1 1002000 Finished      M   Paris   25       John     Alter                  2\n",
      "A002  Project 2 2000000  Ongoing      F  London   27      Alice Luxumberg                  2\n",
      "A003  Project 3 4500000 Finished      M  Berlin   29        Tom Sabestine                  3\n",
      "A004  Project 4 5500000  Ongoing      F Newyork   31       Nina     Adgra                  2\n",
      "A005  Project 5 3250500 Finished      F  Madrid   30        Amy     Johny                  3\n",
      "A002  Project 6  680000   Failed      F  London   27      Alice Luxumberg                  1\n",
      "A005  Project 7  400000 Finished      F  Madrid   30        Amy     Johny                  3\n",
      "A003  Project 8  350000   Failed      M  Berlin   29        Tom Sabestine                  2\n",
      "A001  Project 9 2210312  Ongoing      M   Paris   25       John     Alter                  2\n",
      "A003 Project 10  300000 Finished      M  Berlin   29        Tom Sabestine                  3\n",
      "A001 Project 11 2000000   Failed      M   Paris   25       John     Alter                  1\n",
      "A004 Project 12 1000000  Ongoing      F Newyork   31       Nina     Adgra                  2\n",
      "A004 Project 13 3000000 Finished      F Newyork   31       Nina     Adgra                  2\n",
      "A005 Project 14  200000 Finished      F  Madrid   30        Amy     Johny                  3\n"
     ]
    }
   ],
   "source": [
    "#Task 6-Demote the designation level by 1, whose projects have status “fail”. Delete the employees record whose designation level is above 4.\n",
    "\n",
    "#import Pandas library as pd\n",
    "import pandas as pd\n",
    "\n",
    "#Read the newly created Final.csv\n",
    "df=pd.read_csv('Final.csv', index_col=0)\n",
    "\n",
    "#Decrease the desgnation level by 1 if project status is Failed\n",
    "df.loc[df['Status']=='Failed', 'Designation Level']-=1\n",
    "\n",
    "#Remove the records of the dataframe where Designation level is above 4\n",
    "df=df[df['Designation Level']<=4]\n",
    "\n",
    "#Print the updated dataframe\n",
    "print(df.to_string (index=False))\n"
   ]
  },
  {
   "cell_type": "code",
   "execution_count": 297,
   "id": "6ab0d593-f39c-4c22-a486-12a1097e773c",
   "metadata": {},
   "outputs": [
    {
     "name": "stdout",
     "output_type": "stream",
     "text": [
      "  ID    Project    Cost   Status    City  Age First Name Last Name  Designation Level\n",
      "A001  Project 1 1002000 Finished   Paris   25    Mr.John     Alter                  2\n",
      "A002  Project 2 2000000  Ongoing  London   27  Mrs.Alice Luxumberg                  2\n",
      "A003  Project 3 4500000 Finished  Berlin   29     Mr.Tom Sabestine                  3\n",
      "A004  Project 4 5500000  Ongoing Newyork   31   Mrs.Nina     Adgra                  2\n",
      "A005  Project 5 3250500 Finished  Madrid   30    Mrs.Amy     Johny                  3\n",
      "A002  Project 6  680000   Failed  London   27  Mrs.Alice Luxumberg                  2\n",
      "A005  Project 7  400000 Finished  Madrid   30    Mrs.Amy     Johny                  3\n",
      "A003  Project 8  350000   Failed  Berlin   29     Mr.Tom Sabestine                  3\n",
      "A001  Project 9 2210312  Ongoing   Paris   25    Mr.John     Alter                  2\n",
      "A003 Project 10  300000 Finished  Berlin   29     Mr.Tom Sabestine                  3\n",
      "A001 Project 11 2000000   Failed   Paris   25    Mr.John     Alter                  2\n",
      "A004 Project 12 1000000  Ongoing Newyork   31   Mrs.Nina     Adgra                  2\n",
      "A004 Project 13 3000000 Finished Newyork   31   Mrs.Nina     Adgra                  2\n",
      "A005 Project 14  200000 Finished  Madrid   30    Mrs.Amy     Johny                  3\n"
     ]
    }
   ],
   "source": [
    "#Task 7:Add “Mr.” and “Mrs.” to the first name column and drop the gender column.\n",
    "\n",
    "#import Pandas library as pd\n",
    "import pandas as pd\n",
    "\n",
    "#Read the newly created Final.csv\n",
    "df=pd.read_csv('Final.csv', index_col=0)\n",
    "\n",
    "# Add prefix Mr or Mrs to the First Name by checking Gender as M or F using if condition\n",
    "df['First Name']=df.apply(lambda row: 'Mr.' + row['First Name'] if row['Gender']=='M' else 'Mrs.' + row['First Name'], axis=1)\n",
    "\n",
    "#Remove Gender column from the dataframe\n",
    "df=df.drop(columns=['Gender'])\n",
    "\n",
    "#Print updated dataframe without index\n",
    "print(df.to_string (index=False))"
   ]
  },
  {
   "cell_type": "code",
   "execution_count": 307,
   "id": "43615074-1fb2-41a2-ad57-96e088f0f8af",
   "metadata": {},
   "outputs": [
    {
     "name": "stdout",
     "output_type": "stream",
     "text": [
      "  ID    Project    Cost   Status Gender    City  Age First Name Last Name  Designation Level\n",
      "A001  Project 1 1002000 Finished      M   Paris   25       John     Alter                  2\n",
      "A002  Project 2 2000000  Ongoing      F  London   27      Alice Luxumberg                  2\n",
      "A003  Project 3 4500000 Finished      M  Berlin   29        Tom Sabestine                  3\n",
      "A004  Project 4 5500000  Ongoing      F Newyork   31       Nina     Adgra                  3\n",
      "A005  Project 5 3250500 Finished      F  Madrid   30        Amy     Johny                  4\n",
      "A002  Project 6  680000   Failed      F  London   27      Alice Luxumberg                  2\n",
      "A005  Project 7  400000 Finished      F  Madrid   30        Amy     Johny                  4\n",
      "A003  Project 8  350000   Failed      M  Berlin   29        Tom Sabestine                  3\n",
      "A001  Project 9 2210312  Ongoing      M   Paris   25       John     Alter                  2\n",
      "A003 Project 10  300000 Finished      M  Berlin   29        Tom Sabestine                  3\n",
      "A001 Project 11 2000000   Failed      M   Paris   25       John     Alter                  2\n",
      "A004 Project 12 1000000  Ongoing      F Newyork   31       Nina     Adgra                  3\n",
      "A004 Project 13 3000000 Finished      F Newyork   31       Nina     Adgra                  3\n",
      "A005 Project 14  200000 Finished      F  Madrid   30        Amy     Johny                  4\n"
     ]
    }
   ],
   "source": [
    "#Task 8:Promote designation level by 1 for the employees whose age is more than 29 years using IF condition.\n",
    "\n",
    "#import Pandas library as pd\n",
    "import pandas as pd\n",
    "\n",
    "#Read the Final.csv\n",
    "df=pd.read_csv('Final.csv', index_col=0)\n",
    "\n",
    "#Increase designation level by 1 if the age is more than 29 using if condition\n",
    "df['Designation Level']=df.apply(lambda x: x['Designation Level']+1 if x['Age']>29 else x['Designation Level'], axis=1)\n",
    "\n",
    "#Print updated dataframe without index\n",
    "print(df.to_string (index=False))\n"
   ]
  },
  {
   "cell_type": "code",
   "execution_count": 335,
   "id": "f39b6692-802b-4af1-bbe0-e4bf937d398c",
   "metadata": {},
   "outputs": [
    {
     "name": "stdout",
     "output_type": "stream",
     "text": [
      "  ID First Name  Total cost\n",
      "A001       John     5212312\n",
      "A002      Alice     2680000\n",
      "A003        Tom     5150000\n",
      "A004       Nina     9500000\n",
      "A005        Amy     3850500\n"
     ]
    }
   ],
   "source": [
    "#Task 9:Add the cost of all projects for each Employee and save it in new dataframe “TotalProjCost” with three columns ID, First Name, and Total cost\n",
    "\n",
    "#import Pandas library as pd\n",
    "import pandas as pd\n",
    "\n",
    "#Read the Final.csv\n",
    "df=pd.read_csv('Final.csv', index_col=0)\n",
    "\n",
    "#Calculate the total cost for all project for each employee using Groupby function\n",
    "TotalProjCost=df.groupby(['ID', 'First Name'], as_index=False) ['Cost'].sum()\n",
    "\n",
    "#Rename the column name cost to total cost in the new created dataframe\n",
    "TotalProjCost.rename(columns={'Cost': 'Total cost'}, inplace=True)\n",
    "\n",
    "#Print the updated dataframe\n",
    "print(TotalProjCost.to_string (index=False))\n",
    "\n"
   ]
  },
  {
   "cell_type": "code",
   "execution_count": 383,
   "id": "6b61b184-c353-4fc5-9666-3f2c7d8cb8aa",
   "metadata": {},
   "outputs": [
    {
     "name": "stdout",
     "output_type": "stream",
     "text": [
      "  ID            Name Gender    City  Age\n",
      "A002 Alice Luxumberg      F  London   27\n",
      "A004      Nina Adgra      F Newyork   31\n"
     ]
    }
   ],
   "source": [
    "#Task 10:Print all the employee details whose city name contains the letter “o” in it.\n",
    "\n",
    "#import Pandas library as pd\n",
    "import pandas as pd\n",
    "\n",
    "df=pd.read_csv('Employee.csv', index_col=0)\n",
    "\n",
    "emp_detail=df[df['City'].str.contains('o', case=False, na=False)]\n",
    "\n",
    "print(emp_detail.to_string (index=False))"
   ]
  },
  {
   "cell_type": "code",
   "execution_count": null,
   "id": "ac54d9df-3afe-42d3-a6c9-378a30a5e3af",
   "metadata": {},
   "outputs": [],
   "source": []
  }
 ],
 "metadata": {
  "kernelspec": {
   "display_name": "Python [conda env:base] *",
   "language": "python",
   "name": "conda-base-py"
  },
  "language_info": {
   "codemirror_mode": {
    "name": "ipython",
    "version": 3
   },
   "file_extension": ".py",
   "mimetype": "text/x-python",
   "name": "python",
   "nbconvert_exporter": "python",
   "pygments_lexer": "ipython3",
   "version": "3.12.7"
  }
 },
 "nbformat": 4,
 "nbformat_minor": 5
}
